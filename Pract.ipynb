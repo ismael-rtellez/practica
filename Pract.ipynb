{
  "nbformat": 4,
  "nbformat_minor": 0,
  "metadata": {
    "colab": {
      "provenance": [],
      "toc_visible": true,
      "authorship_tag": "ABX9TyP92Bqd8BuxQyw+5UItyTmI",
      "include_colab_link": true
    },
    "kernelspec": {
      "name": "python3",
      "display_name": "Python 3"
    },
    "language_info": {
      "name": "python"
    }
  },
  "cells": [
    {
      "cell_type": "markdown",
      "metadata": {
        "id": "view-in-github",
        "colab_type": "text"
      },
      "source": [
        "<a href=\"https://colab.research.google.com/github/ismael-rtellez/practica/blob/main/Pract.ipynb\" target=\"_parent\"><img src=\"https://colab.research.google.com/assets/colab-badge.svg\" alt=\"Open In Colab\"/></a>"
      ]
    },
    {
      "cell_type": "code",
      "execution_count": null,
      "metadata": {
        "colab": {
          "base_uri": "https://localhost:8080/"
        },
        "id": "2ebvHOAMRU4_",
        "outputId": "148e56a7-c61d-4335-d57c-32094310f870"
      },
      "outputs": [
        {
          "output_type": "stream",
          "name": "stdout",
          "text": [
            "Espesor: 703687441.77664 metros\n"
          ]
        }
      ],
      "source": [
        "# Código para calcular el grosor de un trozo de papel doblado una vez.\n",
        "\n",
        "THICKNESS = 0.00008\n",
        "\n",
        "folded_thickness = THICKNESS * 2 ** 43\n",
        "\n",
        "print(\"Espesor: {} metros\".format(folded_thickness))\n"
      ]
    },
    {
      "cell_type": "code",
      "source": [
        "print(\"Espesor: {:.2f} kilómetros\".format(folded_thickness / 1000))\n"
      ],
      "metadata": {
        "colab": {
          "base_uri": "https://localhost:8080/"
        },
        "id": "l9WmcoStUNRG",
        "outputId": "acb6f4f1-0156-4270-84bb-aa05a1323a1a"
      },
      "execution_count": null,
      "outputs": [
        {
          "output_type": "stream",
          "name": "stdout",
          "text": [
            "Espesor: 703687.44 kilómetros\n"
          ]
        }
      ]
    },
    {
      "cell_type": "code",
      "source": [
        "f_thickness = 0.00008\n",
        "cant_veces = 43\n",
        "\n",
        "\n",
        "for i in range(0, cant_veces):\n",
        "  f_thickness *= 2\n",
        "\n",
        "print(\"Espesor: {:.2f} kilometros\".format(f_thickness/1000))\n"
      ],
      "metadata": {
        "id": "uR7JsD3MUuOG",
        "colab": {
          "base_uri": "https://localhost:8080/"
        },
        "outputId": "0157860b-ab1e-4403-f0ef-1bd22ce50d8d"
      },
      "execution_count": 12,
      "outputs": [
        {
          "output_type": "stream",
          "name": "stdout",
          "text": [
            "Espesor: 703687.44 kilometros\n"
          ]
        }
      ]
    },
    {
      "cell_type": "code",
      "source": [
        "import time\n",
        "\n",
        "start = time.time()\n",
        "#####\n",
        "# Pegue aquí el código que desea comparar\n",
        "f_thickness = 0.00008\n",
        "cant_veces = 43\n",
        "\n",
        "\n",
        "for i in range(0, cant_veces):\n",
        "  f_thickness *= 2\n",
        "\n",
        "print(\"Espesor: {:.2f} kilometros\".format(f_thickness/1000))\n",
        "\n",
        "#####\n",
        "elapsed_time = time.time() - start\n",
        "print(\"time : {}[s]\".format(elapsed_time))"
      ],
      "metadata": {
        "colab": {
          "base_uri": "https://localhost:8080/"
        },
        "id": "ypcZztFJXHis",
        "outputId": "e32b488b-c554-4c7e-b9c2-02e98450c06f"
      },
      "execution_count": 13,
      "outputs": [
        {
          "output_type": "stream",
          "name": "stdout",
          "text": [
            "Espesor: 703687.44 kilometros\n",
            "time : 0.00029277801513671875[s]\n"
          ]
        }
      ]
    },
    {
      "cell_type": "code",
      "source": [
        "import time\n",
        "\n",
        "start = time.time()\n",
        "#####\n",
        "# Pegue aquí el código que desea comparar\n",
        "THICKNESS = 0.00008\n",
        "\n",
        "folded_thickness = THICKNESS * 2 ** 43\n",
        "\n",
        "print(\"Espesor: {} metros\".format(folded_thickness))\n",
        "#####\n",
        "elapsed_time = time.time() - start\n",
        "print(\"time : {}[s]\".format(elapsed_time))"
      ],
      "metadata": {
        "colab": {
          "base_uri": "https://localhost:8080/"
        },
        "id": "YjxfpdqHXOaD",
        "outputId": "a040ba69-e375-4be5-c309-70b746dab586"
      },
      "execution_count": 14,
      "outputs": [
        {
          "output_type": "stream",
          "name": "stdout",
          "text": [
            "Espesor: 703687441.77664 metros\n",
            "time : 0.0002090930938720703[s]\n"
          ]
        }
      ]
    }
  ]
}