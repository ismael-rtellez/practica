{
  "nbformat": 4,
  "nbformat_minor": 0,
  "metadata": {
    "colab": {
      "provenance": [],
      "toc_visible": true,
      "authorship_tag": "ABX9TyO54f1nMOkt192dG2Wxx44h",
      "include_colab_link": true
    },
    "kernelspec": {
      "name": "python3",
      "display_name": "Python 3"
    },
    "language_info": {
      "name": "python"
    }
  },
  "cells": [
    {
      "cell_type": "markdown",
      "metadata": {
        "id": "view-in-github",
        "colab_type": "text"
      },
      "source": [
        "<a href=\"https://colab.research.google.com/github/ismael-rtellez/practica/blob/main/Pract.ipynb\" target=\"_parent\"><img src=\"https://colab.research.google.com/assets/colab-badge.svg\" alt=\"Open In Colab\"/></a>"
      ]
    },
    {
      "cell_type": "code",
      "execution_count": 1,
      "metadata": {
        "colab": {
          "base_uri": "https://localhost:8080/"
        },
        "id": "2ebvHOAMRU4_",
        "outputId": "42f35230-4d83-46a1-b558-2bbd44ce9d10"
      },
      "outputs": [
        {
          "output_type": "stream",
          "name": "stdout",
          "text": [
            "Espesor: 703687441.77664 metros\n"
          ]
        }
      ],
      "source": [
        "# Código para calcular el grosor de un trozo de papel doblado una vez.\n",
        "\n",
        "THICKNESS = 0.00008\n",
        "\n",
        "folded_thickness = THICKNESS * 2 ** 43\n",
        "\n",
        "print(\"Espesor: {} metros\".format(folded_thickness))\n"
      ]
    },
    {
      "cell_type": "code",
      "source": [
        "print(\"Espesor: {:.2f} kilómetros\".format(folded_thickness / 1000))\n"
      ],
      "metadata": {
        "colab": {
          "base_uri": "https://localhost:8080/"
        },
        "id": "l9WmcoStUNRG",
        "outputId": "6dbb61e9-6475-4fea-e06c-aee5c9d29ce1"
      },
      "execution_count": 2,
      "outputs": [
        {
          "output_type": "stream",
          "name": "stdout",
          "text": [
            "Espesor: 703687.44 kilómetros\n"
          ]
        }
      ]
    },
    {
      "cell_type": "code",
      "source": [
        "f_thickness = 0.00008\n",
        "cant_veces = 43\n",
        "\n",
        "\n",
        "for i in range(0, cant_veces):\n",
        "  f_thickness *= 2\n",
        "\n",
        "print(\"Espesor: {:.2f} kilometros\".format(f_thickness/1000))\n"
      ],
      "metadata": {
        "id": "uR7JsD3MUuOG",
        "colab": {
          "base_uri": "https://localhost:8080/"
        },
        "outputId": "95d01077-fe16-427c-e191-db0f04884546"
      },
      "execution_count": 3,
      "outputs": [
        {
          "output_type": "stream",
          "name": "stdout",
          "text": [
            "Espesor: 703687.44 kilometros\n"
          ]
        }
      ]
    },
    {
      "cell_type": "code",
      "source": [
        "import time\n",
        "\n",
        "start = time.time()\n",
        "#####\n",
        "# Pegue aquí el código que desea comparar\n",
        "f_thickness = 0.00008\n",
        "cant_veces = 43\n",
        "\n",
        "\n",
        "for i in range(0, cant_veces):\n",
        "  f_thickness *= 2\n",
        "\n",
        "print(\"Espesor: {:.2f} kilometros\".format(f_thickness/1000))\n",
        "\n",
        "#####\n",
        "elapsed_time = time.time() - start\n",
        "print(\"tiempo : {}[s]\".format(elapsed_time))"
      ],
      "metadata": {
        "colab": {
          "base_uri": "https://localhost:8080/"
        },
        "id": "ypcZztFJXHis",
        "outputId": "94d0edce-9935-448f-d7ab-7b6864924f5f"
      },
      "execution_count": 4,
      "outputs": [
        {
          "output_type": "stream",
          "name": "stdout",
          "text": [
            "Espesor: 703687.44 kilometros\n",
            "tiempo : 0.0005805492401123047[s]\n"
          ]
        }
      ]
    },
    {
      "cell_type": "code",
      "source": [
        "import time\n",
        "\n",
        "start = time.time()\n",
        "#####\n",
        "# Pegue aquí el código que desea comparar\n",
        "THICKNESS = 0.00008\n",
        "\n",
        "folded_thickness = THICKNESS * 2 ** 43\n",
        "\n",
        "print(\"Espesor: {} metros\".format(folded_thickness))\n",
        "#####\n",
        "elapsed_time = time.time() - start\n",
        "print(\"tiempo : {}[s]\".format(elapsed_time))"
      ],
      "metadata": {
        "colab": {
          "base_uri": "https://localhost:8080/"
        },
        "id": "YjxfpdqHXOaD",
        "outputId": "c90946ee-f60d-4388-ffe9-8eb17f0f08ec"
      },
      "execution_count": 5,
      "outputs": [
        {
          "output_type": "stream",
          "name": "stdout",
          "text": [
            "Espesor: 703687441.77664 metros\n",
            "tiempo : 0.0005300045013427734[s]\n"
          ]
        }
      ]
    }
  ]
}